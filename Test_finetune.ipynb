{
 "cells": [
  {
   "cell_type": "markdown",
   "metadata": {},
   "source": [
    "# 修改当前路径为你的数据目录"
   ]
  },
  {
   "cell_type": "code",
   "execution_count": 1,
   "metadata": {
    "collapsed": false
   },
   "outputs": [],
   "source": [
    "root_src = 'D:\\DogsVsCats_finetune'#修改到你的数据文件夹目录\n",
    "import os\n",
    "import shutil\n",
    "import time\n",
    "from tqdm import tqdm\n",
    "import cv2\n",
    "import numpy as np\n",
    "#转换目录\n",
    "os.chdir(root_src)"
   ]
  },
  {
   "cell_type": "markdown",
   "metadata": {},
   "source": [
    "# 定义生成文件夹函数"
   ]
  },
  {
   "cell_type": "code",
   "execution_count": 2,
   "metadata": {
    "collapsed": false
   },
   "outputs": [],
   "source": [
    "def create_directory(dir_name):\n",
    "    if os.path.exists(dir_name):\n",
    "        pass\n",
    "    else:\n",
    "        os.mkdir(dir_name)"
   ]
  },
  {
   "cell_type": "markdown",
   "metadata": {},
   "source": [
    "# 根据train文件夹中的图像数据，以2:8比例分别放入validation、train2文件夹，便于用图片生成器生成数据"
   ]
  },
  {
   "cell_type": "code",
   "execution_count": 3,
   "metadata": {
    "collapsed": false
   },
   "outputs": [],
   "source": [
    "import random as rd\n",
    "train_valid_split_rate = 0.2\n",
    "#创建训练数据所需的文件夹\n",
    "create_directory('train2')\n",
    "create_directory('train2/cat')\n",
    "create_directory('train2/dog')\n",
    "create_directory('validation')\n",
    "create_directory('validation/cat')\n",
    "create_directory('validation/dog')\n",
    "#获取当前狗和猫图片的文件名\n",
    "filenames = os.listdir('train')\n",
    "cat_filenames = list(filter(lambda x:x[:3] == 'cat', filenames))\n",
    "cat_file_num = len(cat_filenames)\n",
    "rd.shuffle(cat_filenames)\n",
    "dog_filenames = list(filter(lambda x:x[:3] == 'dog', filenames))\n",
    "dog_file_num = len(dog_filenames)\n",
    "rd.shuffle(dog_filenames)"
   ]
  },
  {
   "cell_type": "code",
   "execution_count": 4,
   "metadata": {
    "collapsed": false
   },
   "outputs": [
    {
     "name": "stderr",
     "output_type": "stream",
     "text": [
      "0it [00:00, ?it/s]\n",
      "0it [00:00, ?it/s]\n",
      "0it [00:00, ?it/s]\n",
      "0it [00:00, ?it/s]\n"
     ]
    },
    {
     "name": "stdout",
     "output_type": "stream",
     "text": [
      "path deal time is 0.01651 s\n"
     ]
    }
   ],
   "source": [
    "start = time.time()\n",
    "#将cat类和dog类图片归类到train2、validation文件夹\n",
    "for name in tqdm(cat_filenames[0:int(train_valid_split_rate*cat_file_num)]):\n",
    "    shutil.move('./train/'+name, './validation/cat/'+name)\n",
    "for name in tqdm(dog_filenames[0:int(train_valid_split_rate*dog_file_num)]):\n",
    "    shutil.move('./train/'+name, './validation/dog/'+name)\n",
    "\n",
    "for name in tqdm(cat_filenames[int(train_valid_split_rate*cat_file_num):cat_file_num]):\n",
    "    shutil.move('./train/'+name, './train2/cat/'+name)\n",
    "for name in tqdm(dog_filenames[int(train_valid_split_rate*cat_file_num):dog_file_num]):\n",
    "    shutil.move('./train/'+name, './train2/dog/'+name)\n",
    "\n",
    "end = time.time()\n",
    "print('path deal time is %.5f s'%round(end-start,5)) "
   ]
  },
  {
   "cell_type": "markdown",
   "metadata": {},
   "source": [
    "# 处理test文件夹，便于用图片生成器生成数据"
   ]
  },
  {
   "cell_type": "code",
   "execution_count": 5,
   "metadata": {
    "collapsed": false
   },
   "outputs": [
    {
     "name": "stdout",
     "output_type": "stream",
     "text": [
      "path deal time is 0.28306 s\n"
     ]
    }
   ],
   "source": [
    "start = time.time()\n",
    "filenames = os.listdir('test')\n",
    "create_directory('test/test2')\n",
    "if len(filenames) <= 1:\n",
    "    pass\n",
    "else:\n",
    "    for name in tqdm(filenames):\n",
    "        shutil.move('test/'+name,'test/test2'+'/'+name)\n",
    "    else:\n",
    "        pass\n",
    "end = time.time()\n",
    "print('path deal time is %.5f s'%round(end-start,5))"
   ]
  },
  {
   "cell_type": "code",
   "execution_count": 6,
   "metadata": {
    "collapsed": false
   },
   "outputs": [
    {
     "name": "stderr",
     "output_type": "stream",
     "text": [
      "Using TensorFlow backend.\n"
     ]
    }
   ],
   "source": [
    "from keras.applications.inception_v3 import InceptionV3\n",
    "from keras.applications.resnet50 import ResNet50\n",
    "from keras.applications.xception import Xception\n",
    "from keras.preprocessing import image\n",
    "from keras.models import Model\n",
    "from keras.layers import Dense, GlobalAveragePooling2D\n",
    "from keras import backend as K\n",
    "from keras.optimizers import SGD\n",
    "from keras.optimizers import RMSprop\n",
    "from keras.optimizers import Adam\n",
    "from keras.preprocessing.image import ImageDataGenerator\n",
    "from keras.layers import *\n",
    "import numpy as np\n",
    "BatchSize = 64\n",
    "train_file_num = 25000"
   ]
  },
  {
   "cell_type": "markdown",
   "metadata": {},
   "source": [
    "# 设置早停函数"
   ]
  },
  {
   "cell_type": "code",
   "execution_count": 7,
   "metadata": {
    "collapsed": false
   },
   "outputs": [],
   "source": [
    "from keras.callbacks import EarlyStopping\n",
    "earlystopping = EarlyStopping(monitor='val_loss', min_delta=0, patience=1, verbose=0, mode='auto')"
   ]
  },
  {
   "cell_type": "markdown",
   "metadata": {},
   "source": [
    "# 载入InceptionV3、ResNet50、Xception的imagenet模型参数"
   ]
  },
  {
   "cell_type": "code",
   "execution_count": 8,
   "metadata": {
    "collapsed": false
   },
   "outputs": [],
   "source": [
    "base_model1 = InceptionV3(weights='imagenet', include_top=False)\n",
    "base_model2 = ResNet50(weights='imagenet', include_top=False)\n",
    "base_model3 = Xception(weights='imagenet', include_top=False)"
   ]
  },
  {
   "cell_type": "code",
   "execution_count": 9,
   "metadata": {
    "collapsed": false
   },
   "outputs": [
    {
     "name": "stdout",
     "output_type": "stream",
     "text": [
      "311\n",
      "174\n",
      "132\n"
     ]
    }
   ],
   "source": [
    "print(len(base_model1.layers))\n",
    "print(len(base_model2.layers))\n",
    "print(len(base_model3.layers))"
   ]
  },
  {
   "cell_type": "markdown",
   "metadata": {},
   "source": [
    "# 图像生成器"
   ]
  },
  {
   "cell_type": "code",
   "execution_count": 12,
   "metadata": {
    "collapsed": false
   },
   "outputs": [
    {
     "name": "stdout",
     "output_type": "stream",
     "text": [
      "Found 20000 images belonging to 2 classes.\n",
      "Found 5000 images belonging to 2 classes.\n",
      "Found 12500 images belonging to 1 classes.\n"
     ]
    }
   ],
   "source": [
    "Img_enerator = ImageDataGenerator(rescale=1./255)\n",
    "train_generator = Img_enerator.flow_from_directory(\n",
    "        'train2',\n",
    "        target_size=(299, 299),\n",
    "        batch_size=BatchSize,\n",
    "        class_mode='binary')\n",
    "validation_generator = Img_enerator.flow_from_directory(\n",
    "        'validation',\n",
    "        target_size=(299, 299),\n",
    "        batch_size=BatchSize,\n",
    "        class_mode='binary')\n",
    "test_generator = Img_enerator.flow_from_directory(\n",
    "        'test',\n",
    "        target_size=(299, 299),\n",
    "        batch_size=BatchSize,\n",
    "        class_mode='binary',\n",
    "        shuffle = False)"
   ]
  },
  {
   "cell_type": "markdown",
   "metadata": {},
   "source": [
    "# 选择InceptionV3搭建基准模型"
   ]
  },
  {
   "cell_type": "markdown",
   "metadata": {},
   "source": [
    "### 基准模型可视化"
   ]
  },
  {
   "cell_type": "code",
   "execution_count": 10,
   "metadata": {
    "collapsed": false
   },
   "outputs": [
    {
     "data": {
      "image/svg+xml": [
       "<?xml version=\"1.0\" encoding=\"UTF-8\" standalone=\"no\"?>\r\n",
       "<!DOCTYPE svg PUBLIC \"-//W3C//DTD SVG 1.1//EN\"\r\n",
       " \"http://www.w3.org/Graphics/SVG/1.1/DTD/svg11.dtd\">\r\n",
       "<!-- Generated by graphviz version 2.38.0 (20140413.2041)\r\n",
       " -->\r\n",
       "<!-- Title: g Pages: 1 -->\r\n",
       "<svg width=\"238pt\" height=\"433pt\"\r\n",
       " viewBox=\"0.00 0.00 238.00 433.00\" xmlns=\"http://www.w3.org/2000/svg\" xmlns:xlink=\"http://www.w3.org/1999/xlink\">\r\n",
       "<g id=\"graph0\" class=\"graph\" transform=\"scale(1 1) rotate(0) translate(4 429)\">\r\n",
       "<title>g</title>\r\n",
       "<polygon fill=\"white\" stroke=\"none\" points=\"-4,4 -4,-429 234,-429 234,4 -4,4\"/>\r\n",
       "<!-- node0 -->\r\n",
       "<g id=\"node1\" class=\"node\"><title>node0</title>\r\n",
       "<polygon fill=\"none\" stroke=\"black\" points=\"88,-401.5 88,-424.5 142,-424.5 142,-401.5 88,-401.5\"/>\r\n",
       "<text text-anchor=\"middle\" x=\"115\" y=\"-409.3\" font-family=\"Times New Roman,serif\" font-size=\"14.00\">image</text>\r\n",
       "</g>\r\n",
       "<!-- node1 -->\r\n",
       "<g id=\"node2\" class=\"node\"><title>node1</title>\r\n",
       "<polygon fill=\"none\" stroke=\"black\" points=\"0,-318.5 0,-364.5 230,-364.5 230,-318.5 0,-318.5\"/>\r\n",
       "<text text-anchor=\"middle\" x=\"43\" y=\"-337.8\" font-family=\"Times New Roman,serif\" font-size=\"14.00\">InceptionV3</text>\r\n",
       "<polyline fill=\"none\" stroke=\"black\" points=\"86,-318.5 86,-364.5 \"/>\r\n",
       "<text text-anchor=\"middle\" x=\"114\" y=\"-349.3\" font-family=\"Times New Roman,serif\" font-size=\"14.00\">input:</text>\r\n",
       "<polyline fill=\"none\" stroke=\"black\" points=\"86,-341.5 142,-341.5 \"/>\r\n",
       "<text text-anchor=\"middle\" x=\"114\" y=\"-326.3\" font-family=\"Times New Roman,serif\" font-size=\"14.00\">output:</text>\r\n",
       "<polyline fill=\"none\" stroke=\"black\" points=\"142,-318.5 142,-364.5 \"/>\r\n",
       "<text text-anchor=\"middle\" x=\"186\" y=\"-349.3\" font-family=\"Times New Roman,serif\" font-size=\"14.00\">(299, 299, 3)</text>\r\n",
       "<polyline fill=\"none\" stroke=\"black\" points=\"142,-341.5 230,-341.5 \"/>\r\n",
       "<text text-anchor=\"middle\" x=\"186\" y=\"-326.3\" font-family=\"Times New Roman,serif\" font-size=\"14.00\">(2048)</text>\r\n",
       "</g>\r\n",
       "<!-- node0&#45;&gt;node1 -->\r\n",
       "<g id=\"edge1\" class=\"edge\"><title>node0&#45;&gt;node1</title>\r\n",
       "<path fill=\"none\" stroke=\"black\" d=\"M115,-401.444C115,-394.305 115,-384.462 115,-374.862\"/>\r\n",
       "<polygon fill=\"black\" stroke=\"black\" points=\"118.5,-374.681 115,-364.681 111.5,-374.681 118.5,-374.681\"/>\r\n",
       "</g>\r\n",
       "<!-- node2 -->\r\n",
       "<g id=\"node3\" class=\"node\"><title>node2</title>\r\n",
       "<polygon fill=\"none\" stroke=\"black\" points=\"26.5,-212.5 26.5,-281.5 203.5,-281.5 203.5,-212.5 26.5,-212.5\"/>\r\n",
       "<text text-anchor=\"middle\" x=\"52\" y=\"-243.3\" font-family=\"Times New Roman,serif\" font-size=\"14.00\">Dense</text>\r\n",
       "<polyline fill=\"none\" stroke=\"black\" points=\"77.5,-212.5 77.5,-281.5 \"/>\r\n",
       "<text text-anchor=\"middle\" x=\"114\" y=\"-266.3\" font-family=\"Times New Roman,serif\" font-size=\"14.00\">activation:</text>\r\n",
       "<polyline fill=\"none\" stroke=\"black\" points=\"77.5,-258.5 150.5,-258.5 \"/>\r\n",
       "<text text-anchor=\"middle\" x=\"114\" y=\"-243.3\" font-family=\"Times New Roman,serif\" font-size=\"14.00\">input:</text>\r\n",
       "<polyline fill=\"none\" stroke=\"black\" points=\"77.5,-235.5 150.5,-235.5 \"/>\r\n",
       "<text text-anchor=\"middle\" x=\"114\" y=\"-220.3\" font-family=\"Times New Roman,serif\" font-size=\"14.00\">output:</text>\r\n",
       "<polyline fill=\"none\" stroke=\"black\" points=\"150.5,-212.5 150.5,-281.5 \"/>\r\n",
       "<text text-anchor=\"middle\" x=\"177\" y=\"-266.3\" font-family=\"Times New Roman,serif\" font-size=\"14.00\">relu</text>\r\n",
       "<polyline fill=\"none\" stroke=\"black\" points=\"150.5,-258.5 203.5,-258.5 \"/>\r\n",
       "<text text-anchor=\"middle\" x=\"177\" y=\"-243.3\" font-family=\"Times New Roman,serif\" font-size=\"14.00\">(2048)</text>\r\n",
       "<polyline fill=\"none\" stroke=\"black\" points=\"150.5,-235.5 203.5,-235.5 \"/>\r\n",
       "<text text-anchor=\"middle\" x=\"177\" y=\"-220.3\" font-family=\"Times New Roman,serif\" font-size=\"14.00\">(256)</text>\r\n",
       "</g>\r\n",
       "<!-- node1&#45;&gt;node2 -->\r\n",
       "<g id=\"edge2\" class=\"edge\"><title>node1&#45;&gt;node2</title>\r\n",
       "<path fill=\"none\" stroke=\"black\" d=\"M115,-318.108C115,-310.183 115,-300.971 115,-291.882\"/>\r\n",
       "<polygon fill=\"black\" stroke=\"black\" points=\"118.5,-291.746 115,-281.746 111.5,-291.746 118.5,-291.746\"/>\r\n",
       "</g>\r\n",
       "<!-- node3 -->\r\n",
       "<g id=\"node4\" class=\"node\"><title>node3</title>\r\n",
       "<polygon fill=\"none\" stroke=\"black\" points=\"14,-106.5 14,-175.5 216,-175.5 216,-106.5 14,-106.5\"/>\r\n",
       "<text text-anchor=\"middle\" x=\"46\" y=\"-137.3\" font-family=\"Times New Roman,serif\" font-size=\"14.00\">Dropout</text>\r\n",
       "<polyline fill=\"none\" stroke=\"black\" points=\"78,-106.5 78,-175.5 \"/>\r\n",
       "<text text-anchor=\"middle\" x=\"124\" y=\"-160.3\" font-family=\"Times New Roman,serif\" font-size=\"14.00\">dropout_rate:</text>\r\n",
       "<polyline fill=\"none\" stroke=\"black\" points=\"78,-152.5 170,-152.5 \"/>\r\n",
       "<text text-anchor=\"middle\" x=\"124\" y=\"-137.3\" font-family=\"Times New Roman,serif\" font-size=\"14.00\">input:</text>\r\n",
       "<polyline fill=\"none\" stroke=\"black\" points=\"78,-129.5 170,-129.5 \"/>\r\n",
       "<text text-anchor=\"middle\" x=\"124\" y=\"-114.3\" font-family=\"Times New Roman,serif\" font-size=\"14.00\">output:</text>\r\n",
       "<polyline fill=\"none\" stroke=\"black\" points=\"170,-106.5 170,-175.5 \"/>\r\n",
       "<text text-anchor=\"middle\" x=\"193\" y=\"-160.3\" font-family=\"Times New Roman,serif\" font-size=\"14.00\">0.2</text>\r\n",
       "<polyline fill=\"none\" stroke=\"black\" points=\"170,-152.5 216,-152.5 \"/>\r\n",
       "<text text-anchor=\"middle\" x=\"193\" y=\"-137.3\" font-family=\"Times New Roman,serif\" font-size=\"14.00\">(256)</text>\r\n",
       "<polyline fill=\"none\" stroke=\"black\" points=\"170,-129.5 216,-129.5 \"/>\r\n",
       "<text text-anchor=\"middle\" x=\"193\" y=\"-114.3\" font-family=\"Times New Roman,serif\" font-size=\"14.00\">(256)</text>\r\n",
       "</g>\r\n",
       "<!-- node2&#45;&gt;node3 -->\r\n",
       "<g id=\"edge3\" class=\"edge\"><title>node2&#45;&gt;node3</title>\r\n",
       "<path fill=\"none\" stroke=\"black\" d=\"M115,-212.234C115,-203.793 115,-194.619 115,-185.77\"/>\r\n",
       "<polygon fill=\"black\" stroke=\"black\" points=\"118.5,-185.596 115,-175.596 111.5,-185.596 118.5,-185.596\"/>\r\n",
       "</g>\r\n",
       "<!-- node4 -->\r\n",
       "<g id=\"node5\" class=\"node\"><title>node4</title>\r\n",
       "<polygon fill=\"none\" stroke=\"black\" points=\"22.5,-0.5 22.5,-69.5 207.5,-69.5 207.5,-0.5 22.5,-0.5\"/>\r\n",
       "<text text-anchor=\"middle\" x=\"48\" y=\"-31.3\" font-family=\"Times New Roman,serif\" font-size=\"14.00\">Dense</text>\r\n",
       "<polyline fill=\"none\" stroke=\"black\" points=\"73.5,-0.5 73.5,-69.5 \"/>\r\n",
       "<text text-anchor=\"middle\" x=\"110\" y=\"-54.3\" font-family=\"Times New Roman,serif\" font-size=\"14.00\">activation:</text>\r\n",
       "<polyline fill=\"none\" stroke=\"black\" points=\"73.5,-46.5 146.5,-46.5 \"/>\r\n",
       "<text text-anchor=\"middle\" x=\"110\" y=\"-31.3\" font-family=\"Times New Roman,serif\" font-size=\"14.00\">input:</text>\r\n",
       "<polyline fill=\"none\" stroke=\"black\" points=\"73.5,-23.5 146.5,-23.5 \"/>\r\n",
       "<text text-anchor=\"middle\" x=\"110\" y=\"-8.3\" font-family=\"Times New Roman,serif\" font-size=\"14.00\">output:</text>\r\n",
       "<polyline fill=\"none\" stroke=\"black\" points=\"146.5,-0.5 146.5,-69.5 \"/>\r\n",
       "<text text-anchor=\"middle\" x=\"177\" y=\"-54.3\" font-family=\"Times New Roman,serif\" font-size=\"14.00\">sigmoid</text>\r\n",
       "<polyline fill=\"none\" stroke=\"black\" points=\"146.5,-46.5 207.5,-46.5 \"/>\r\n",
       "<text text-anchor=\"middle\" x=\"177\" y=\"-31.3\" font-family=\"Times New Roman,serif\" font-size=\"14.00\">(256)</text>\r\n",
       "<polyline fill=\"none\" stroke=\"black\" points=\"146.5,-23.5 207.5,-23.5 \"/>\r\n",
       "<text text-anchor=\"middle\" x=\"177\" y=\"-8.3\" font-family=\"Times New Roman,serif\" font-size=\"14.00\">(1)</text>\r\n",
       "</g>\r\n",
       "<!-- node3&#45;&gt;node4 -->\r\n",
       "<g id=\"edge4\" class=\"edge\"><title>node3&#45;&gt;node4</title>\r\n",
       "<path fill=\"none\" stroke=\"black\" d=\"M115,-106.234C115,-97.7935 115,-88.6188 115,-79.7704\"/>\r\n",
       "<polygon fill=\"black\" stroke=\"black\" points=\"118.5,-79.5964 115,-69.5964 111.5,-79.5964 118.5,-79.5964\"/>\r\n",
       "</g>\r\n",
       "</g>\r\n",
       "</svg>\r\n"
      ],
      "text/plain": [
       "<graphviz.dot.Digraph at 0x1d159792208>"
      ]
     },
     "execution_count": 10,
     "metadata": {},
     "output_type": "execute_result"
    }
   ],
   "source": [
    "from graphviz import Digraph\n",
    "g = Digraph('g',node_attr={'shape': 'record', 'height': '.1'})\n",
    "\n",
    "g.node('node0','image')\n",
    "g.node('node1','InceptionV3|{input:|output:}|{(299, 299, 3)|(2048)}')\n",
    "g.node('node2','Dense|{activation:|input:|output:}|{relu|(2048)|(256)}')\n",
    "g.node('node3','Dropout|{dropout_rate:|input:|output:}|{0.2|(256)|(256)}')\n",
    "g.node('node4','Dense|{activation:|input:|output:}|{sigmoid|(256)|(1)}')\n",
    "\n",
    "g.edge('node0','node1')\n",
    "g.edge('node1','node2')\n",
    "g.edge('node2','node3')\n",
    "g.edge('node3','node4')\n",
    "g"
   ]
  },
  {
   "cell_type": "markdown",
   "metadata": {},
   "source": [
    "### 基准模型训练"
   ]
  },
  {
   "cell_type": "code",
   "execution_count": 12,
   "metadata": {
    "collapsed": false
   },
   "outputs": [
    {
     "name": "stdout",
     "output_type": "stream",
     "text": [
      "Epoch 1/10\n",
      "312/312 [==============================] - 372s - loss: 0.1352 - acc: 0.9483 - val_loss: 0.0526 - val_acc: 0.9804\n",
      "Epoch 2/10\n",
      "312/312 [==============================] - 270s - loss: 0.0696 - acc: 0.9748 - val_loss: 0.0505 - val_acc: 0.9826\n",
      "Epoch 3/10\n",
      "312/312 [==============================] - 269s - loss: 0.0646 - acc: 0.9761 - val_loss: 0.0426 - val_acc: 0.9840\n",
      "Epoch 4/10\n",
      "312/312 [==============================] - 269s - loss: 0.0564 - acc: 0.9786 - val_loss: 0.0489 - val_acc: 0.9830\n",
      "Epoch 5/10\n",
      "312/312 [==============================] - 269s - loss: 0.0554 - acc: 0.9804 - val_loss: 0.0544 - val_acc: 0.9759\n"
     ]
    }
   ],
   "source": [
    "import pandas as pd\n",
    "from keras.layers.core import ActivityRegularization\n",
    "# add a global spatial average pooling layer\n",
    "x = base_model1.output\n",
    "x = GlobalAveragePooling2D()(x)\n",
    "x = Dense(256, activation='relu')(x)\n",
    "x = Dropout(0.2)(x)\n",
    "predictions = Dense(1, activation='sigmoid')(x)\n",
    "\n",
    "# this is the model we will train\n",
    "model = Model(inputs=base_model1.input, outputs=predictions)\n",
    "# first: train only the top layers (which were randomly initialized)\n",
    "# i.e. freeze all convolutional InceptionV3 layers\n",
    "for layer in base_model1.layers:\n",
    "    layer.trainable = False\n",
    "    \n",
    "#model.compile(optimizer=SGD(lr= 0.005, momentum=0.9),\n",
    "#                  loss='binary_crossentropy',\n",
    "#                  metrics=['accuracy']) \n",
    "model.compile(optimizer='adadelta',\n",
    "                  loss='binary_crossentropy',\n",
    "                  metrics=['accuracy']) \n",
    "# train the model on the new data for a few epochs\n",
    "hist = model.fit_generator(\n",
    "        train_generator,\n",
    "        steps_per_epoch=int(train_file_num*(1-train_valid_split_rate)/BatchSize),\n",
    "        epochs=10,\n",
    "        verbose=1, \n",
    "        callbacks=[earlystopping],\n",
    "        validation_data=validation_generator,\n",
    "        validation_steps=int(train_file_num*train_valid_split_rate/BatchSize))\n",
    "model.save_weights('InceptionV3_base.h5')\n",
    "with open('InceptionV3_base.json', 'w') as f:\n",
    "    f.write(model.to_json())\n",
    "with open('InceptionV3_base.txt','w') as f:\n",
    "    f.write(str(hist.history))"
   ]
  },
  {
   "cell_type": "markdown",
   "metadata": {},
   "source": [
    "### 基准模型预测并提交至kaggle，获得了0.06956的评分"
   ]
  },
  {
   "cell_type": "code",
   "execution_count": 13,
   "metadata": {
    "collapsed": false
   },
   "outputs": [
    {
     "name": "stdout",
     "output_type": "stream",
     "text": [
      "Found 12500 images belonging to 1 classes.\n"
     ]
    },
    {
     "data": {
      "text/html": [
       "<div>\n",
       "<table border=\"1\" class=\"dataframe\">\n",
       "  <thead>\n",
       "    <tr style=\"text-align: right;\">\n",
       "      <th></th>\n",
       "      <th>id</th>\n",
       "      <th>label</th>\n",
       "    </tr>\n",
       "  </thead>\n",
       "  <tbody>\n",
       "    <tr>\n",
       "      <th>0</th>\n",
       "      <td>1</td>\n",
       "      <td>0.995</td>\n",
       "    </tr>\n",
       "    <tr>\n",
       "      <th>1</th>\n",
       "      <td>2</td>\n",
       "      <td>0.995</td>\n",
       "    </tr>\n",
       "    <tr>\n",
       "      <th>2</th>\n",
       "      <td>3</td>\n",
       "      <td>0.995</td>\n",
       "    </tr>\n",
       "    <tr>\n",
       "      <th>3</th>\n",
       "      <td>4</td>\n",
       "      <td>0.995</td>\n",
       "    </tr>\n",
       "    <tr>\n",
       "      <th>4</th>\n",
       "      <td>5</td>\n",
       "      <td>0.005</td>\n",
       "    </tr>\n",
       "    <tr>\n",
       "      <th>5</th>\n",
       "      <td>6</td>\n",
       "      <td>0.005</td>\n",
       "    </tr>\n",
       "    <tr>\n",
       "      <th>6</th>\n",
       "      <td>7</td>\n",
       "      <td>0.005</td>\n",
       "    </tr>\n",
       "    <tr>\n",
       "      <th>7</th>\n",
       "      <td>8</td>\n",
       "      <td>0.005</td>\n",
       "    </tr>\n",
       "    <tr>\n",
       "      <th>8</th>\n",
       "      <td>9</td>\n",
       "      <td>0.005</td>\n",
       "    </tr>\n",
       "    <tr>\n",
       "      <th>9</th>\n",
       "      <td>10</td>\n",
       "      <td>0.005</td>\n",
       "    </tr>\n",
       "  </tbody>\n",
       "</table>\n",
       "</div>"
      ],
      "text/plain": [
       "   id  label\n",
       "0   1  0.995\n",
       "1   2  0.995\n",
       "2   3  0.995\n",
       "3   4  0.995\n",
       "4   5  0.005\n",
       "5   6  0.005\n",
       "6   7  0.005\n",
       "7   8  0.005\n",
       "8   9  0.005\n",
       "9  10  0.005"
      ]
     },
     "execution_count": 13,
     "metadata": {},
     "output_type": "execute_result"
    }
   ],
   "source": [
    "from keras.models import model_from_json\n",
    "\n",
    "test_generator = Img_enerator.flow_from_directory(\n",
    "        'test',\n",
    "        target_size=(299, 299),\n",
    "        batch_size=BatchSize,\n",
    "        class_mode='binary',\n",
    "        shuffle = False)\n",
    "with open('InceptionV3_base.json', 'r') as f:\n",
    "    jason_str = f.read()\n",
    "model = model_from_json(jason_str)\n",
    "model.load_weights('InceptionV3_base.h5')\n",
    "test = model.predict_generator(test_generator,len(test_generator.filenames)/BatchSize )\n",
    "y_pred = test.clip(min=0.005, max=0.995)\n",
    "import pandas as pd\n",
    "from keras.preprocessing.image import *\n",
    "df = pd.read_csv(\"sample_submission.csv\")\n",
    "# 获取文件的序号并减1，然后设置到新预测的csv文件的序号\n",
    "for i, fname in enumerate(test_generator.filenames):\n",
    "    index = int((fname.split('\\\\')[1]).split('.')[0])\n",
    "    df.set_value(index-1, 'label', y_pred[i])\n",
    "df.to_csv('InceptionV3_base_sub.csv', index=None)\n",
    "df.head(10)"
   ]
  },
  {
   "cell_type": "markdown",
   "metadata": {},
   "source": [
    "# 模型调优"
   ]
  },
  {
   "cell_type": "markdown",
   "metadata": {},
   "source": [
    "## 尝试不同模型并训练部分卷积层"
   ]
  },
  {
   "cell_type": "markdown",
   "metadata": {},
   "source": [
    "### 尝试Inception模型"
   ]
  },
  {
   "cell_type": "code",
   "execution_count": 27,
   "metadata": {
    "collapsed": false
   },
   "outputs": [
    {
     "name": "stdout",
     "output_type": "stream",
     "text": [
      "Found 20000 images belonging to 2 classes.\n",
      "Found 5000 images belonging to 2 classes.\n",
      "Epoch 1/10\n",
      "312/312 [==============================] - 314s - loss: 0.1796 - acc: 0.9583 - val_loss: 0.0656 - val_acc: 0.9894\n",
      "Epoch 2/10\n",
      "312/312 [==============================] - 305s - loss: 0.0416 - acc: 0.9983 - val_loss: 0.0440 - val_acc: 0.9887\n",
      "Epoch 3/10\n",
      "312/312 [==============================] - 305s - loss: 0.0270 - acc: 0.9987 - val_loss: 0.0351 - val_acc: 0.9895\n",
      "Epoch 4/10\n",
      "312/312 [==============================] - 306s - loss: 0.0205 - acc: 0.9987 - val_loss: 0.0309 - val_acc: 0.9897\n",
      "Epoch 5/10\n",
      "312/312 [==============================] - 307s - loss: 0.0156 - acc: 0.9990 - val_loss: 0.0283 - val_acc: 0.9901\n",
      "Epoch 6/10\n",
      "312/312 [==============================] - 304s - loss: 0.0146 - acc: 0.9985 - val_loss: 0.0289 - val_acc: 0.9899\n",
      "Epoch 7/10\n",
      "312/312 [==============================] - 306s - loss: 0.0123 - acc: 0.9988 - val_loss: 0.0275 - val_acc: 0.9895\n",
      "Epoch 8/10\n",
      "312/312 [==============================] - 305s - loss: 0.0113 - acc: 0.9989 - val_loss: 0.0274 - val_acc: 0.9901\n",
      "Epoch 9/10\n",
      "312/312 [==============================] - 306s - loss: 0.0103 - acc: 0.9992 - val_loss: 0.0262 - val_acc: 0.9901\n",
      "Epoch 10/10\n",
      "312/312 [==============================] - 305s - loss: 0.0093 - acc: 0.9990 - val_loss: 0.0260 - val_acc: 0.9903\n"
     ]
    }
   ],
   "source": [
    "import pandas as pd\n",
    "\n",
    "# add a global spatial average pooling layer\n",
    "x = base_model1.output\n",
    "x = GlobalAveragePooling2D()(x)\n",
    "\n",
    "x = Dense(256, activation='relu')(x)\n",
    "x = Dropout(0.2)(x)\n",
    "predictions = Dense(1, activation='sigmoid')(x)\n",
    "# this is the model we will train\n",
    "model = Model(inputs=base_model1.input, outputs=predictions)\n",
    "# first: train only the top layers (which were randomly initialized)\n",
    "# i.e. freeze all convolutional InceptionV3 layers\n",
    "for layer in base_model1.layers[:250]:\n",
    "    layer.trainable = False\n",
    "for layer in base_model1.layers[250:]:\n",
    "    layer.trainable = True\n",
    "    \n",
    "Img_enerator = ImageDataGenerator(rescale=1./255)\n",
    "train_generator = Img_enerator.flow_from_directory(\n",
    "        'train2',\n",
    "        target_size=(299, 299),\n",
    "        batch_size=BatchSize,\n",
    "        class_mode='binary')\n",
    "validation_generator = Img_enerator.flow_from_directory(\n",
    "        'validation',\n",
    "        target_size=(299, 299),\n",
    "        batch_size=BatchSize,\n",
    "        class_mode='binary')\n",
    "# compile the model (should be done *after* setting layers to non-trainable)\n",
    "#model.compile(optimizer=RMSprop(lr= 0.0045), loss='binary_crossentropy',metrics=['accuracy'])\n",
    "model.compile(optimizer=SGD(lr=0.0001,momentum=0.9),\n",
    "                  loss='binary_crossentropy',\n",
    "                  metrics=['accuracy']) \n",
    "Img_enerator = ImageDataGenerator()\n",
    "# train the model on the new data for a few epochs\n",
    "hist = model.fit_generator(\n",
    "        train_generator,\n",
    "        steps_per_epoch=int(train_file_num*(1-train_valid_split_rate)/BatchSize),\n",
    "        epochs=10,\n",
    "        verbose=1, \n",
    "        callbacks=[earlystopping],\n",
    "        validation_data=validation_generator,\n",
    "        validation_steps=int(train_file_num*train_valid_split_rate/BatchSize))\n",
    "model.save_weights('InceptionV3_finetune.h5')\n",
    "with open('InceptionV3_finetune.json', 'w') as f:\n",
    "    f.write(model.to_json())\n",
    "with open('log_InceptionV3_finetune.txt','w') as f:\n",
    "    f.write(str(hist.history))"
   ]
  },
  {
   "cell_type": "markdown",
   "metadata": {},
   "source": [
    "### 尝试ResNet50模型"
   ]
  },
  {
   "cell_type": "code",
   "execution_count": 21,
   "metadata": {
    "collapsed": false
   },
   "outputs": [
    {
     "name": "stdout",
     "output_type": "stream",
     "text": [
      "Found 20000 images belonging to 2 classes.\n",
      "Found 5000 images belonging to 2 classes.\n",
      "Epoch 1/10\n",
      "312/312 [==============================] - 263s - loss: 0.2520 - acc: 0.8979 - val_loss: 0.0875 - val_acc: 0.9718\n",
      "Epoch 2/10\n",
      "312/312 [==============================] - 254s - loss: 0.0934 - acc: 0.9674 - val_loss: 0.0636 - val_acc: 0.9789\n",
      "Epoch 3/10\n",
      "312/312 [==============================] - 254s - loss: 0.0683 - acc: 0.9762 - val_loss: 0.0553 - val_acc: 0.9793\n",
      "Epoch 4/10\n",
      "312/312 [==============================] - 255s - loss: 0.0577 - acc: 0.9790 - val_loss: 0.0457 - val_acc: 0.9836\n",
      "Epoch 5/10\n",
      "312/312 [==============================] - 256s - loss: 0.0504 - acc: 0.9822 - val_loss: 0.0450 - val_acc: 0.9816\n",
      "Epoch 6/10\n",
      "312/312 [==============================] - 257s - loss: 0.0432 - acc: 0.9838 - val_loss: 0.0408 - val_acc: 0.9848\n",
      "Epoch 7/10\n",
      "312/312 [==============================] - 255s - loss: 0.0416 - acc: 0.9847 - val_loss: 0.0439 - val_acc: 0.9822\n",
      "Epoch 8/10\n",
      "312/312 [==============================] - 253s - loss: 0.0360 - acc: 0.9868 - val_loss: 0.0362 - val_acc: 0.9854\n",
      "Epoch 9/10\n",
      "312/312 [==============================] - 256s - loss: 0.0311 - acc: 0.9891 - val_loss: 0.0374 - val_acc: 0.9848\n",
      "Epoch 10/10\n",
      "312/312 [==============================] - 249s - loss: 0.0257 - acc: 0.9912 - val_loss: 0.0395 - val_acc: 0.9834\n"
     ]
    }
   ],
   "source": [
    "# add a global spatial average pooling layer\n",
    "x = base_model2.output\n",
    "x = GlobalAveragePooling2D()(x)\n",
    "\n",
    "x = Dense(256, activation='relu')(x)\n",
    "x = Dropout(0.2)(x)\n",
    "predictions = Dense(1, activation='sigmoid')(x)\n",
    "# this is the model we will train\n",
    "model = Model(inputs=base_model2.input, outputs=predictions)\n",
    "# first: train only the top layers (which were randomly initialized)\n",
    "# i.e. freeze all convolutional InceptionV3 layers\n",
    "for layer in base_model2.layers[:124]:\n",
    "    layer.trainable = False\n",
    "for layer in base_model2.layers[124:]:\n",
    "    layer.trainable = True\n",
    "# compile the model (should be done *after* setting layers to non-trainable)\n",
    "#model.compile(optimizer=RMSprop(lr= 0.0045), loss='binary_crossentropy',metrics=['accuracy'])\n",
    "model.compile(optimizer=SGD(lr=0.0002,momentum=0.9),\n",
    "                  loss='binary_crossentropy',\n",
    "                  metrics=['accuracy']) \n",
    "Img_enerator = ImageDataGenerator()\n",
    "train_generator = Img_enerator.flow_from_directory(\n",
    "        'train2',\n",
    "        target_size=(224, 224),\n",
    "        batch_size=BatchSize,\n",
    "        class_mode='binary')\n",
    "validation_generator = Img_enerator.flow_from_directory(\n",
    "        'validation',\n",
    "        target_size=(224, 224),\n",
    "        batch_size=BatchSize,\n",
    "        class_mode='binary')\n",
    "# train the model on the new data for a few epochs\n",
    "hist = model.fit_generator(\n",
    "        train_generator,\n",
    "        steps_per_epoch=int(train_file_num*(1-train_valid_split_rate)/BatchSize),\n",
    "        epochs=10,\n",
    "        verbose=1, \n",
    "        callbacks=[earlystopping],\n",
    "        validation_data=validation_generator,\n",
    "        validation_steps=int(train_file_num*train_valid_split_rate/BatchSize))\n",
    "model.save_weights('ResNet50_finetune.h5')\n",
    "with open('ResNet50_finetun.json', 'w') as f:\n",
    "    f.write(model.to_json())\n",
    "with open('log_ResNet50_finetune.txt','w') as f:\n",
    "    f.write(str(hist.history))"
   ]
  },
  {
   "cell_type": "markdown",
   "metadata": {},
   "source": [
    "### 尝试Xception模型"
   ]
  },
  {
   "cell_type": "code",
   "execution_count": 38,
   "metadata": {
    "collapsed": false
   },
   "outputs": [
    {
     "name": "stdout",
     "output_type": "stream",
     "text": [
      "Found 20000 images belonging to 2 classes.\n",
      "Found 5000 images belonging to 2 classes.\n",
      "Epoch 1/10\n",
      "312/312 [==============================] - 494s - loss: 0.1960 - acc: 0.9696 - val_loss: 0.0656 - val_acc: 0.9896\n",
      "Epoch 2/10\n",
      "312/312 [==============================] - 483s - loss: 0.0582 - acc: 0.9879 - val_loss: 0.0381 - val_acc: 0.9917\n",
      "Epoch 3/10\n",
      "312/312 [==============================] - 483s - loss: 0.0418 - acc: 0.9891 - val_loss: 0.0325 - val_acc: 0.9911\n",
      "Epoch 4/10\n",
      "312/312 [==============================] - 483s - loss: 0.0357 - acc: 0.9890 - val_loss: 0.0291 - val_acc: 0.9917\n",
      "Epoch 5/10\n",
      "312/312 [==============================] - 486s - loss: 0.0319 - acc: 0.9893 - val_loss: 0.0244 - val_acc: 0.9931\n",
      "Epoch 6/10\n",
      "312/312 [==============================] - 482s - loss: 0.0300 - acc: 0.9901 - val_loss: 0.0219 - val_acc: 0.9931\n",
      "Epoch 7/10\n",
      "312/312 [==============================] - 485s - loss: 0.0279 - acc: 0.9908 - val_loss: 0.0195 - val_acc: 0.9935\n",
      "Epoch 8/10\n",
      "312/312 [==============================] - 485s - loss: 0.0263 - acc: 0.9913 - val_loss: 0.0218 - val_acc: 0.9933\n",
      "Epoch 9/10\n",
      "312/312 [==============================] - 485s - loss: 0.0239 - acc: 0.9922 - val_loss: 0.0205 - val_acc: 0.9933\n"
     ]
    }
   ],
   "source": [
    "# add a global spatial average pooling layer\n",
    "x = base_model3.output\n",
    "x = GlobalAveragePooling2D()(x)\n",
    "\n",
    "x = Dense(256, activation='relu')(x)\n",
    "x = Dropout(0.2)(x)\n",
    "predictions = Dense(1, activation='sigmoid')(x)\n",
    "model = Model(inputs=base_model3.input, outputs=predictions)\n",
    "for layer in base_model3.layers[:82]:\n",
    "    layer.trainable = False\n",
    "for layer in base_model3.layers[82:]:\n",
    "    layer.trainable = True\n",
    "# compile the model (should be done *after* setting layers to non-trainable)\n",
    "#model.compile(optimizer=RMSprop(lr= 0.0045), loss='binary_crossentropy',metrics=['accuracy'])\n",
    "model.compile(optimizer=SGD(lr=0.0003,momentum=0.9),\n",
    "                  loss='binary_crossentropy',\n",
    "                  metrics=['accuracy']) \n",
    "Img_enerator = ImageDataGenerator(rescale=1./255)\n",
    "train_generator = Img_enerator.flow_from_directory(\n",
    "        'train2',\n",
    "        target_size=(299, 299),\n",
    "        batch_size=BatchSize,\n",
    "        class_mode='binary')\n",
    "validation_generator = Img_enerator.flow_from_directory(\n",
    "        'validation',\n",
    "        target_size=(299, 299),\n",
    "        batch_size=BatchSize,\n",
    "        class_mode='binary')\n",
    "\n",
    "# train the model on the new data for a few epochs\n",
    "hist = model.fit_generator(\n",
    "        train_generator,\n",
    "        steps_per_epoch=int(train_file_num*(1-train_valid_split_rate)/BatchSize),\n",
    "        epochs=10,\n",
    "        verbose=1, \n",
    "        callbacks=[earlystopping],\n",
    "        validation_data=validation_generator,\n",
    "        validation_steps=int(train_file_num*train_valid_split_rate/BatchSize))\n",
    "model.save_weights('Xception_finetune.h5')\n",
    "with open('Xception_finetune.json', 'w') as f:\n",
    "    f.write(model.to_json())\n",
    "with open('log_Xception0_finetune.txt','w') as f:\n",
    "    f.write(str(hist.history))"
   ]
  },
  {
   "cell_type": "markdown",
   "metadata": {},
   "source": [
    "# (2)从上述三个模型的val_loss来看，Xception的loss结果较优，所以选取Xception进行dropout参数调优\n",
    "## 从下述运行结果可以看出在0.4的时候模型val_loss较低，也比较稳定"
   ]
  },
  {
   "cell_type": "code",
   "execution_count": 13,
   "metadata": {
    "collapsed": false,
    "scrolled": true
   },
   "outputs": [
    {
     "name": "stdout",
     "output_type": "stream",
     "text": [
      "Found 20000 images belonging to 2 classes.\n",
      "Found 5000 images belonging to 2 classes.\n",
      "Epoch 1/15\n",
      "312/312 [==============================] - 493s - loss: 0.3305 - acc: 0.9068 - val_loss: 0.1219 - val_acc: 0.9870\n",
      "Epoch 2/15\n",
      "312/312 [==============================] - 487s - loss: 0.1076 - acc: 0.9811 - val_loss: 0.0588 - val_acc: 0.9895\n",
      "Epoch 3/15\n",
      "312/312 [==============================] - 489s - loss: 0.0667 - acc: 0.9846 - val_loss: 0.0379 - val_acc: 0.9915\n",
      "Epoch 4/15\n",
      "312/312 [==============================] - 489s - loss: 0.0518 - acc: 0.9867 - val_loss: 0.0330 - val_acc: 0.9915\n",
      "Epoch 5/15\n",
      "312/312 [==============================] - 489s - loss: 0.0449 - acc: 0.9881 - val_loss: 0.0295 - val_acc: 0.9917\n",
      "Epoch 6/15\n",
      "312/312 [==============================] - 490s - loss: 0.0406 - acc: 0.9875 - val_loss: 0.0225 - val_acc: 0.9937\n",
      "Epoch 7/15\n",
      "312/312 [==============================] - 490s - loss: 0.0377 - acc: 0.9884 - val_loss: 0.0261 - val_acc: 0.9915\n",
      "Epoch 8/15\n",
      "312/312 [==============================] - 481s - loss: 0.0328 - acc: 0.9897 - val_loss: 0.0229 - val_acc: 0.9927\n",
      "Found 20000 images belonging to 2 classes.\n",
      "Found 5000 images belonging to 2 classes.\n",
      "Epoch 1/15\n",
      "312/312 [==============================] - 484s - loss: 0.2157 - acc: 0.9531 - val_loss: 0.0643 - val_acc: 0.9898\n",
      "Epoch 2/15\n",
      "312/312 [==============================] - 482s - loss: 0.0624 - acc: 0.9869 - val_loss: 0.0373 - val_acc: 0.9911\n",
      "Epoch 3/15\n",
      "312/312 [==============================] - 482s - loss: 0.0453 - acc: 0.9883 - val_loss: 0.0290 - val_acc: 0.9929\n",
      "Epoch 4/15\n",
      "312/312 [==============================] - 482s - loss: 0.0369 - acc: 0.9896 - val_loss: 0.0220 - val_acc: 0.9937\n",
      "Epoch 5/15\n",
      "312/312 [==============================] - 484s - loss: 0.0325 - acc: 0.9904 - val_loss: 0.0233 - val_acc: 0.9929\n",
      "Epoch 6/15\n",
      "312/312 [==============================] - 486s - loss: 0.0300 - acc: 0.9907 - val_loss: 0.0187 - val_acc: 0.9953\n",
      "Epoch 7/15\n",
      "312/312 [==============================] - 484s - loss: 0.0264 - acc: 0.9914 - val_loss: 0.0222 - val_acc: 0.9923\n",
      "Epoch 8/15\n",
      "312/312 [==============================] - 486s - loss: 0.0262 - acc: 0.9913 - val_loss: 0.0183 - val_acc: 0.9933\n",
      "Epoch 9/15\n",
      "312/312 [==============================] - 486s - loss: 0.0241 - acc: 0.9919 - val_loss: 0.0181 - val_acc: 0.9941\n",
      "Epoch 10/15\n",
      "312/312 [==============================] - 485s - loss: 0.0240 - acc: 0.9921 - val_loss: 0.0183 - val_acc: 0.9937\n",
      "Epoch 11/15\n",
      "312/312 [==============================] - 485s - loss: 0.0226 - acc: 0.9927 - val_loss: 0.0176 - val_acc: 0.9935\n",
      "Epoch 12/15\n",
      "312/312 [==============================] - 483s - loss: 0.0223 - acc: 0.9919 - val_loss: 0.0182 - val_acc: 0.9933\n",
      "Epoch 13/15\n",
      "312/312 [==============================] - 483s - loss: 0.0204 - acc: 0.9935 - val_loss: 0.0190 - val_acc: 0.9929\n",
      "Found 20000 images belonging to 2 classes.\n",
      "Found 5000 images belonging to 2 classes.\n",
      "Epoch 1/15\n",
      "312/312 [==============================] - 492s - loss: 0.1604 - acc: 0.9766 - val_loss: 0.0492 - val_acc: 0.9922\n",
      "Epoch 2/15\n",
      "312/312 [==============================] - 484s - loss: 0.0440 - acc: 0.9920 - val_loss: 0.0288 - val_acc: 0.9935\n",
      "Epoch 3/15\n",
      "312/312 [==============================] - 482s - loss: 0.0322 - acc: 0.9925 - val_loss: 0.0259 - val_acc: 0.9925\n",
      "Epoch 4/15\n",
      "312/312 [==============================] - 486s - loss: 0.0262 - acc: 0.9925 - val_loss: 0.0212 - val_acc: 0.9933\n",
      "Epoch 5/15\n",
      "312/312 [==============================] - 487s - loss: 0.0235 - acc: 0.9926 - val_loss: 0.0202 - val_acc: 0.9931\n",
      "Epoch 6/15\n",
      "312/312 [==============================] - 483s - loss: 0.0223 - acc: 0.9934 - val_loss: 0.0240 - val_acc: 0.9907\n",
      "Epoch 7/15\n",
      "312/312 [==============================] - 487s - loss: 0.0215 - acc: 0.9929 - val_loss: 0.0186 - val_acc: 0.9933\n",
      "Epoch 8/15\n",
      "312/312 [==============================] - 484s - loss: 0.0190 - acc: 0.9939 - val_loss: 0.0178 - val_acc: 0.9933\n",
      "Epoch 9/15\n",
      "312/312 [==============================] - 486s - loss: 0.0187 - acc: 0.9934 - val_loss: 0.0178 - val_acc: 0.9927\n",
      "Epoch 10/15\n",
      "312/312 [==============================] - 484s - loss: 0.0164 - acc: 0.9949 - val_loss: 0.0184 - val_acc: 0.9921\n",
      "Epoch 11/15\n",
      "312/312 [==============================] - 486s - loss: 0.0171 - acc: 0.9947 - val_loss: 0.0182 - val_acc: 0.9923\n",
      "Found 20000 images belonging to 2 classes.\n",
      "Found 5000 images belonging to 2 classes.\n",
      "Epoch 1/15\n",
      "312/312 [==============================] - 493s - loss: 0.1426 - acc: 0.9736 - val_loss: 0.0402 - val_acc: 0.9920\n",
      "Epoch 2/15\n",
      "312/312 [==============================] - 488s - loss: 0.0338 - acc: 0.9938 - val_loss: 0.0263 - val_acc: 0.9917\n",
      "Epoch 3/15\n",
      "312/312 [==============================] - 487s - loss: 0.0249 - acc: 0.9937 - val_loss: 0.0214 - val_acc: 0.9935\n",
      "Epoch 4/15\n",
      "312/312 [==============================] - 485s - loss: 0.0214 - acc: 0.9937 - val_loss: 0.0223 - val_acc: 0.9917\n",
      "Epoch 5/15\n",
      "312/312 [==============================] - 487s - loss: 0.0178 - acc: 0.9949 - val_loss: 0.0179 - val_acc: 0.9935\n",
      "Epoch 6/15\n",
      "312/312 [==============================] - 483s - loss: 0.0166 - acc: 0.9951 - val_loss: 0.0182 - val_acc: 0.9929\n",
      "Epoch 7/15\n",
      "312/312 [==============================] - 485s - loss: 0.0164 - acc: 0.9945 - val_loss: 0.0193 - val_acc: 0.9911\n",
      "Found 20000 images belonging to 2 classes.\n",
      "Found 5000 images belonging to 2 classes.\n",
      "Epoch 1/15\n",
      "312/312 [==============================] - 490s - loss: 0.1357 - acc: 0.9767 - val_loss: 0.0374 - val_acc: 0.9934\n",
      "Epoch 2/15\n",
      "312/312 [==============================] - 488s - loss: 0.0291 - acc: 0.9953 - val_loss: 0.0245 - val_acc: 0.9937\n",
      "Epoch 3/15\n",
      "312/312 [==============================] - 484s - loss: 0.0220 - acc: 0.9949 - val_loss: 0.0201 - val_acc: 0.9943\n",
      "Epoch 4/15\n",
      "312/312 [==============================] - 487s - loss: 0.0177 - acc: 0.9950 - val_loss: 0.0181 - val_acc: 0.9937\n",
      "Epoch 5/15\n",
      "312/312 [==============================] - 486s - loss: 0.0181 - acc: 0.9947 - val_loss: 0.0169 - val_acc: 0.9945\n",
      "Epoch 6/15\n",
      "312/312 [==============================] - 487s - loss: 0.0148 - acc: 0.9956 - val_loss: 0.0200 - val_acc: 0.9929\n",
      "Epoch 7/15\n",
      "312/312 [==============================] - 483s - loss: 0.0143 - acc: 0.9958 - val_loss: 0.0161 - val_acc: 0.9945\n",
      "Epoch 8/15\n",
      "312/312 [==============================] - 488s - loss: 0.0139 - acc: 0.9956 - val_loss: 0.0198 - val_acc: 0.9929\n",
      "Epoch 9/15\n",
      "312/312 [==============================] - 487s - loss: 0.0125 - acc: 0.9956 - val_loss: 0.0162 - val_acc: 0.9939\n",
      "Found 20000 images belonging to 2 classes.\n",
      "Found 5000 images belonging to 2 classes.\n",
      "Epoch 1/15\n",
      "312/312 [==============================] - 496s - loss: 0.1191 - acc: 0.9747 - val_loss: 0.0346 - val_acc: 0.9932\n",
      "Epoch 2/15\n",
      "312/312 [==============================] - 487s - loss: 0.0249 - acc: 0.9962 - val_loss: 0.0240 - val_acc: 0.9935\n",
      "Epoch 3/15\n",
      "312/312 [==============================] - 487s - loss: 0.0184 - acc: 0.9959 - val_loss: 0.0206 - val_acc: 0.9935\n",
      "Epoch 4/15\n",
      "312/312 [==============================] - 485s - loss: 0.0155 - acc: 0.9961 - val_loss: 0.0204 - val_acc: 0.9935\n",
      "Epoch 5/15\n",
      "312/312 [==============================] - 487s - loss: 0.0135 - acc: 0.9963 - val_loss: 0.0193 - val_acc: 0.9927\n",
      "Epoch 6/15\n",
      "312/312 [==============================] - 486s - loss: 0.0126 - acc: 0.9966 - val_loss: 0.0202 - val_acc: 0.9929\n",
      "Epoch 7/15\n",
      "312/312 [==============================] - 488s - loss: 0.0121 - acc: 0.9970 - val_loss: 0.0145 - val_acc: 0.9947\n",
      "Epoch 8/15\n",
      "312/312 [==============================] - 488s - loss: 0.0128 - acc: 0.9960 - val_loss: 0.0153 - val_acc: 0.9949\n",
      "Epoch 9/15\n",
      "312/312 [==============================] - 487s - loss: 0.0107 - acc: 0.9968 - val_loss: 0.0168 - val_acc: 0.9939\n"
     ]
    }
   ],
   "source": [
    "import pandas as pd\n",
    "drop_rate_matrix = np.linspace(0.6, 0.1, 6)\n",
    "for i,drop_rate in enumerate(drop_rate_matrix):\n",
    "    # add a global spatial average pooling layer\n",
    "    x = base_model3.output\n",
    "    x = GlobalAveragePooling2D()(x)\n",
    "    x = Dense(256, activation='relu')(x)\n",
    "    x = Dropout(drop_rate)(x)\n",
    "    predictions = Dense(1, activation='sigmoid')(x)\n",
    "    # this is the model we will train\n",
    "    model = Model(inputs=base_model3.input, outputs=predictions)\n",
    "    # first: train only the top layers (which were randomly initialized)\n",
    "    # i.e. freeze all convolutional InceptionV3 layers\n",
    "    for layer in base_model3.layers[:82]:\n",
    "        layer.trainable = False\n",
    "    for layer in base_model3.layers[82:]:\n",
    "        layer.trainable = True\n",
    "    # compile the model (should be done *after* setting layers to non-trainable)\n",
    "    #model.compile(optimizer=RMSprop(lr= 0.0045), loss='binary_crossentropy',metrics=['accuracy'])\n",
    "    model.compile(optimizer=SGD(lr=0.0003,momentum=0.9),\n",
    "                  loss='binary_crossentropy',\n",
    "                  metrics=['accuracy']) \n",
    "    Img_enerator = ImageDataGenerator(rescale=1./255)\n",
    "    train_generator = Img_enerator.flow_from_directory(\n",
    "            'train2',\n",
    "            target_size=(299, 299),\n",
    "            batch_size=BatchSize,\n",
    "            class_mode='binary')\n",
    "    validation_generator = Img_enerator.flow_from_directory(\n",
    "            'validation',\n",
    "            target_size=(299, 299),\n",
    "            batch_size=BatchSize,\n",
    "            class_mode='binary')\n",
    "\n",
    "    # train the model on the new data for a few epochs\n",
    "    hist = model.fit_generator(\n",
    "            train_generator,\n",
    "            steps_per_epoch=int(train_file_num*(1-train_valid_split_rate)/BatchSize),\n",
    "            epochs=15,\n",
    "            verbose=1, \n",
    "            callbacks=[earlystopping],\n",
    "            validation_data=validation_generator,\n",
    "            validation_steps=int(train_file_num*train_valid_split_rate/BatchSize))\n",
    "    model.save_weights('Xception_droprate_%s.h5'%drop_rate_matrix[i])\n",
    "    with open('Xception_droprate_%s.json'%drop_rate_matrix[i], 'w') as f:\n",
    "        f.write(model.to_json())\n",
    "    with open('log_Xception_droprate_%s.txt'%drop_rate_matrix[i],'w') as f:\n",
    "        f.write(str(hist.history))"
   ]
  },
  {
   "cell_type": "markdown",
   "metadata": {},
   "source": [
    "### 首先，我根据最好的模型Xception_droprate_0.2 model画出其val_loss曲线图，然后做出预测，并写入csv文件，然后提交至kaggle，获得了0.4163的评分。"
   ]
  },
  {
   "cell_type": "code",
   "execution_count": 33,
   "metadata": {
    "collapsed": false
   },
   "outputs": [
    {
     "data": {
      "image/png": "[encoded data removed]",
      "text/plain": [
       "<matplotlib.figure.Figure at 0x1d1c549bb00>"
      ]
     },
     "metadata": {},
     "output_type": "display_data"
    }
   ],
   "source": [
    "import matplotlib.pyplot as plt\n",
    "%matplotlib inline\n",
    "with open('log_Xception_droprate_0.2.txt', 'r') as f:\n",
    "    log_str = f.read()\n",
    "log_str = eval(log_str)\n",
    "log_val_loss = log_str['val_loss']\n",
    "log_epoch = np.linspace(1,len(log_val_loss),len(log_val_loss))\n",
    "plt.plot(log_epoch, log_val_loss)\n",
    "plt.title('Xception_droprate_0.2 model val_loss figure')  \n",
    "plt.xlabel('epoch')  \n",
    "plt.ylabel('val_loss') \n",
    "plt.show()"
   ]
  },
  {
   "cell_type": "code",
   "execution_count": 18,
   "metadata": {
    "collapsed": false
   },
   "outputs": [],
   "source": [
    "from keras.models import model_from_json\n",
    "with open('Xception_droprate_0.2.json', 'r') as f:\n",
    "    jason_str = f.read()\n",
    "model = model_from_json(jason_str)\n",
    "model.load_weights('Xception_droprate_0.2.h5')"
   ]
  },
  {
   "cell_type": "code",
   "execution_count": 19,
   "metadata": {
    "collapsed": false
   },
   "outputs": [
    {
     "name": "stdout",
     "output_type": "stream",
     "text": [
      "Found 12500 images belonging to 1 classes.\n"
     ]
    }
   ],
   "source": [
    "Img_enerator = ImageDataGenerator(rescale=1./255)\n",
    "test_generator = Img_enerator.flow_from_directory(\n",
    "        'test',\n",
    "        target_size=(299, 299),\n",
    "        batch_size=BatchSize,\n",
    "        class_mode='binary',\n",
    "        shuffle = False)\n",
    "test = model.predict_generator(test_generator,len(test_generator.filenames)/BatchSize )"
   ]
  },
  {
   "cell_type": "code",
   "execution_count": 20,
   "metadata": {
    "collapsed": false
   },
   "outputs": [
    {
     "data": {
      "text/html": [
       "<div>\n",
       "<table border=\"1\" class=\"dataframe\">\n",
       "  <thead>\n",
       "    <tr style=\"text-align: right;\">\n",
       "      <th></th>\n",
       "      <th>id</th>\n",
       "      <th>label</th>\n",
       "    </tr>\n",
       "  </thead>\n",
       "  <tbody>\n",
       "    <tr>\n",
       "      <th>0</th>\n",
       "      <td>1</td>\n",
       "      <td>0.995</td>\n",
       "    </tr>\n",
       "    <tr>\n",
       "      <th>1</th>\n",
       "      <td>2</td>\n",
       "      <td>0.995</td>\n",
       "    </tr>\n",
       "    <tr>\n",
       "      <th>2</th>\n",
       "      <td>3</td>\n",
       "      <td>0.995</td>\n",
       "    </tr>\n",
       "    <tr>\n",
       "      <th>3</th>\n",
       "      <td>4</td>\n",
       "      <td>0.995</td>\n",
       "    </tr>\n",
       "    <tr>\n",
       "      <th>4</th>\n",
       "      <td>5</td>\n",
       "      <td>0.005</td>\n",
       "    </tr>\n",
       "    <tr>\n",
       "      <th>5</th>\n",
       "      <td>6</td>\n",
       "      <td>0.005</td>\n",
       "    </tr>\n",
       "    <tr>\n",
       "      <th>6</th>\n",
       "      <td>7</td>\n",
       "      <td>0.005</td>\n",
       "    </tr>\n",
       "    <tr>\n",
       "      <th>7</th>\n",
       "      <td>8</td>\n",
       "      <td>0.005</td>\n",
       "    </tr>\n",
       "    <tr>\n",
       "      <th>8</th>\n",
       "      <td>9</td>\n",
       "      <td>0.005</td>\n",
       "    </tr>\n",
       "    <tr>\n",
       "      <th>9</th>\n",
       "      <td>10</td>\n",
       "      <td>0.005</td>\n",
       "    </tr>\n",
       "  </tbody>\n",
       "</table>\n",
       "</div>"
      ],
      "text/plain": [
       "   id  label\n",
       "0   1  0.995\n",
       "1   2  0.995\n",
       "2   3  0.995\n",
       "3   4  0.995\n",
       "4   5  0.005\n",
       "5   6  0.005\n",
       "6   7  0.005\n",
       "7   8  0.005\n",
       "8   9  0.005\n",
       "9  10  0.005"
      ]
     },
     "execution_count": 20,
     "metadata": {},
     "output_type": "execute_result"
    }
   ],
   "source": [
    "y_pred = test.clip(min=0.005, max=0.995)\n",
    "\n",
    "import pandas as pd\n",
    "from keras.preprocessing.image import *\n",
    "\n",
    "df = pd.read_csv(\"sample_submission.csv\")\n",
    "\n",
    "# 获取文件的序号并减1，然后设置到新预测的csv文件的序号\n",
    "for i, fname in enumerate(test_generator.filenames):\n",
    "    index = int((fname.split('\\\\')[1]).split('.')[0])\n",
    "    df.set_value(index-1, 'label', y_pred[i])\n",
    "\n",
    "df.to_csv('Xception_droprate_0.2_sub.csv', index=None)\n",
    "df.head(10)"
   ]
  },
  {
   "cell_type": "code",
   "execution_count": null,
   "metadata": {
    "collapsed": true
   },
   "outputs": [],
   "source": []
  }
 ],
 "metadata": {
  "anaconda-cloud": {},
  "kernelspec": {
   "display_name": "Python [conda root]",
   "language": "python",
   "name": "conda-root-py"
  },
  "language_info": {
   "codemirror_mode": {
    "name": "ipython",
    "version": 3
   },
   "file_extension": ".py",
   "mimetype": "text/x-python",
   "name": "python",
   "nbconvert_exporter": "python",
   "pygments_lexer": "ipython3",
   "version": "3.5.2"
  }
 },
 "nbformat": 4,
 "nbformat_minor": 1
}
